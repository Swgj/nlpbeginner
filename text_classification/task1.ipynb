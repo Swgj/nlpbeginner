{
 "cells": [
  {
   "cell_type": "code",
   "execution_count": 1,
   "outputs": [],
   "source": [
    "import numpy as np\n",
    "import csv\n",
    "import random"
   ],
   "metadata": {
    "collapsed": false,
    "pycharm": {
     "name": "#%%\n"
    }
   }
  },
  {
   "cell_type": "markdown",
   "source": [
    "没考虑数据不平衡的问题\n",
    "数据集太多，内存放不下"
   ],
   "metadata": {
    "collapsed": false,
    "pycharm": {
     "name": "#%% md\n"
    }
   }
  },
  {
   "cell_type": "code",
   "execution_count": 25,
   "outputs": [],
   "source": [
    "def data_split(datas,train_size =0.7,max_size=1000):\n",
    "    \"\"\"\n",
    "    将数据划分为训练集和测试集\n",
    "    :param datas: 数据\n",
    "    :param train_size: 训练集比例\n",
    "    :param max_size: 数据集的最大数量--不设置会因数据太多导致内存溢出！！\n",
    "    :return: train_set,test_set: 训练集和测试集\n",
    "    \"\"\"\n",
    "    np.random.seed(2023)\n",
    "    data_size = len(datas)\n",
    "    use_size = min(data_size,max_size) #选取不超过max_size条数据\n",
    "    train_indices = np.random.choice(use_size,int(use_size*train_size),replace=False)\n",
    "    test_indices = np.array(list(set(range(use_size))-set(train_indices)))\n",
    "    train_set = np.array(datas)[train_indices]\n",
    "    test_set = np.array(datas)[test_indices]\n",
    "    return train_set,test_set"
   ],
   "metadata": {
    "collapsed": false,
    "pycharm": {
     "name": "#%%\n"
    }
   }
  },
  {
   "cell_type": "code",
   "execution_count": null,
   "outputs": [],
   "source": [
    "# # Bag of words\n",
    "# class Bow:\n",
    "#     \"\"\"词袋模型\"\"\"\n",
    "#     def __init__(self,data):\n",
    "#         self.data = data\n",
    "#         self.word_dict = dict() #词典\n",
    "#         self.dict_size = 0 #词典大小\n",
    "#\n",
    "#     def transfer_words(self):\n",
    "#         \"\"\"将data中的词转为向量\"\"\"\n",
    "#         for term in self.data:\n",
    "#             sentence = term[2]\n",
    "#             sentence = sentence.lower() #转小写\n",
    "#             words = sentence.split() #按照空格分词\n",
    "#             for word in words:\n",
    "#                 if word not in self.word_dict:#将未出现的词填入词典\n",
    "#                     self.word_dict[word] = len(self.word_dict)\n",
    "#         self.dict_size = len(self.word_dict) #更新词典大小\n",
    "#\n"
   ],
   "metadata": {
    "collapsed": false,
    "pycharm": {
     "name": "#%%\n"
    }
   }
  },
  {
   "cell_type": "code",
   "execution_count": 26,
   "outputs": [],
   "source": [
    "#N-gram\n",
    "class N_Gram:\n",
    "    \"\"\"N元语法模型\"\"\"\n",
    "    def __init__(self,data,n=2,max_size=1000):\n",
    "        \"\"\"\n",
    "        :param data: 原始数据集\n",
    "        :param n: n元语法\n",
    "        :param max_size: 最大数据量--防止内存溢出\n",
    "        \"\"\"\n",
    "        self.data = data[:max_size] #截取最大数据量\n",
    "        self.n = n\n",
    "        self.max_size = max_size\n",
    "        self.diction_size = 0 #特征数量\n",
    "        self.words_diction = dict() #词典\n",
    "        self.train_set,self.test_set = data_split(data,train_size=0.7,max_size=self.max_size)\n",
    "        self.train_y = [int(senten[3])for senten in self.train_set]\n",
    "        self.test_y = [int(senten[3])for senten in self.test_set]\n",
    "        self.train_matrix = np.zeros((len(self.train_set),self.diction_size))#初始化训练集向量\n",
    "        self.test_matrix = np.zeros((len(self.test_set),self.diction_size)) #初始化测试集向量\n",
    "\n",
    "    def get_words(self):\n",
    "        for demention in range(1,self.n+1): #获取所有的1元短语到n元短语\n",
    "            for data_line in self.data:\n",
    "                senten = data_line[2]\n",
    "                senten = senten.lower()\n",
    "                words = senten.split()\n",
    "                for i in range(len(words)-demention+1):\n",
    "                    tmp = words[i:i+demention]\n",
    "                    tmp = \"_\".join(tmp) #连接\n",
    "                    if tmp not in self.words_diction:\n",
    "                        self.words_diction[tmp] = len(self.words_diction) #填入词典\n",
    "        self.diction_size = len(self.words_diction)\n",
    "        #更新矩阵大小\n",
    "        self.train_matrix = np.zeros((len(self.train_set),self.diction_size))\n",
    "        self.test_matrix = np.zeros((len(self.test_set),self.diction_size))\n",
    "\n",
    "    def get_matrix(self):\n",
    "        for demention in range(1,self.n+1):\n",
    "            for i in range(len(self.train_set)):\n",
    "                sen = self.train_set[i][2] #一条文本数据\n",
    "                sen = sen.lower()\n",
    "                words = sen.split()\n",
    "                for j in range(len(words) - demention +1):\n",
    "                    tmp = words[j:j+demention]\n",
    "                    tmp = \"_\".join(tmp)\n",
    "                    self.train_matrix[i][self.words_diction[tmp]]=1 #设置向量的值\n",
    "            for i in range(len(self.test_set)):\n",
    "                sen = self.test_set[i][2]\n",
    "                sen = sen.lower()\n",
    "                words = sen.split()\n",
    "                for j in range(len(words) -demention+1):\n",
    "                    tmp = words[j:j+demention]\n",
    "                    tmp = \"_\".join(tmp)\n",
    "                    self.test_matrix[i][self.words_diction[tmp]]=1 #设置测试向量的值"
   ],
   "metadata": {
    "collapsed": false,
    "pycharm": {
     "name": "#%%\n"
    }
   }
  },
  {
   "cell_type": "code",
   "execution_count": 18,
   "outputs": [],
   "source": [
    "#softmax函数\n",
    "class Softmax:\n",
    "    \"\"\"Softmax\"\"\"\n",
    "    def __init__(self,train_size,type_size,feature):\n",
    "        \"\"\"\n",
    "        :param train_size: 训练集样本个数\n",
    "        :param type_size: 分类种类数\n",
    "        :param feature: 向量长度\n",
    "        \"\"\"\n",
    "        self.train_size = train_size\n",
    "        self.type_size = type_size\n",
    "        self.feature = feature\n",
    "        self.weight = np.random.randn(feature,type_size) #参数矩阵初始化\n",
    "\n",
    "    def softmax_calculate(self,x):\n",
    "        \"\"\"\n",
    "        计算向量的softmax值\n",
    "        :param x: 向量\n",
    "        :return: softmax value\n",
    "        \"\"\"\n",
    "        exp = np.exp(x-np.max(x)) #防止指数太大溢出\n",
    "        return exp/exp.sum()\n",
    "\n",
    "    def softmax_all(self,wtx):\n",
    "        \"\"\"计算矩阵的softmax值\"\"\"\n",
    "        wtx -= np.max(wtx,axis=1,keepdims=True)\n",
    "        wtx = np.exp(wtx)\n",
    "        wtx/=np.sum(wtx,axis=1,keepdims=True)\n",
    "        return wtx\n",
    "\n",
    "    def magic_y(self,y):\n",
    "        \"\"\"将种类转为one-hot向量\"\"\"\n",
    "        res = np.array([0]*self.type_size)\n",
    "        res[y] = 1\n",
    "        return res.reshape(-1,1) #1xn的向量转为nx1的向量\n",
    "\n",
    "    def predict(self,x):\n",
    "        \"\"\"对输入的向量x，判断句子的种类分布概率\"\"\"\n",
    "        prob = self.softmax_all(x.dot(self.weight)) #向量乘法\n",
    "        return prob.argmax(axis=1) #将概率最大的位置输出--种类\n",
    "\n",
    "    def accuracy(self,train,train_y,test,test_y):\n",
    "        \"\"\"计算准确率Accuracy\"\"\"\n",
    "        train_size = len(train)\n",
    "        train_prediction = self.predict(train)\n",
    "        train_accuracy = sum(train_y[i]==train_prediction[i] for i in range(train_size))/train_size\n",
    "\n",
    "        test_size = len(test)\n",
    "        test_prediction = self.predict(test)\n",
    "        test_accuracy = sum(test_y[i]==test_prediction[i] for i in range(test_size))/test_size\n",
    "        return train_accuracy,test_accuracy\n",
    "\n",
    "    def regression(self,x,y,alpha,epoches,strategy=\"mini\",mini_size=100):\n",
    "        \"\"\"softmax regression\"\"\"\n",
    "        if self.train_size != len(x) or self.train_size != len(y):\n",
    "            raise Exception(\"样本个数不匹配！\")\n",
    "        if strategy == \"mini\": #mini batch策略\n",
    "            for i in range(epoches):\n",
    "                increment = np.zeros((self.feature,self.type_size)) #梯度矩阵初始化\n",
    "                for j in range(mini_size): #随机抽样k次\n",
    "                    k = random.randint(0,self.type_size-1)\n",
    "                    y_hat = self.softmax_calculate(self.weight.T.dot(x[k].reshape(-1,1)))#预测值\n",
    "                    increment += x[k].reshape(-1,1).dot((self.magic_y(y[k])-y_hat).T) #计算梯度\n",
    "                self.weight += alpha/mini_size * increment #更新参数\n",
    "        elif strategy == \"shuffle\": #随机梯度下降\n",
    "            for i in range(epoches):\n",
    "                k = random.randint(0,self.train_size-1) #抽取一个\n",
    "                y_hat = self.softmax_calculate(self.weight.T.dot(x[k].reshape(-1,1)))\n",
    "                increment = x[k].reshape(-1,1).dot((self.magic_y(y[k]) - y_hat).T)\n",
    "                self.weight += alpha*increment #更新参数\n",
    "        elif strategy==\"batch\": #整批量梯度\n",
    "            for i in range(epoches):\n",
    "                increment = np.zeros((self.feature,self.type_size))\n",
    "                for j in range(self.train_size):\n",
    "                    y_hat = self.softmax_calculate(self.weight.T.dot(x[j].reshape(-1,1)))\n",
    "                    increment += x[j].reshape(-1,1).dot((self.magic_y(y[j]) - y_hat).T)\n",
    "                self.weight += alpha/self.train_size * increment\n",
    "        else:\n",
    "            raise Exception(\"无此策略\")"
   ],
   "metadata": {
    "collapsed": false,
    "pycharm": {
     "name": "#%%\n"
    }
   }
  },
  {
   "cell_type": "code",
   "execution_count": 28,
   "outputs": [
    {
     "data": {
      "text/plain": "156060"
     },
     "execution_count": 28,
     "metadata": {},
     "output_type": "execute_result"
    }
   ],
   "source": [
    "#读取文件\n",
    "train_filepath = \"./sentiment-analysis-on-movie-reviews/train.tsv\"\n",
    "test_filepath = \"./sentiment-analysis-on-movie-reviews/test.tsv\"\n",
    "\n",
    "with open(train_filepath)as f:\n",
    "    fread = csv.reader(f,delimiter='\\t')\n",
    "    data = list(fread)\n",
    "\n",
    "#去掉表头\n",
    "data = data[1:]\n",
    "len(data)"
   ],
   "metadata": {
    "collapsed": false,
    "pycharm": {
     "name": "#%%\n"
    }
   }
  },
  {
   "cell_type": "code",
   "execution_count": 30,
   "outputs": [],
   "source": [
    "import matplotlib.pyplot as plt"
   ],
   "metadata": {
    "collapsed": false,
    "pycharm": {
     "name": "#%%\n"
    }
   }
  },
  {
   "cell_type": "code",
   "execution_count": 35,
   "outputs": [],
   "source": [
    "#训练-绘图\n",
    "def model_plot(model,epoches,mini_size):\n",
    "    alphas = [0.001,0.01,0.1,1,10,100,1000,10000]\n",
    "\n",
    "    #mini-batch\n",
    "    mini_train = list()\n",
    "    mini_test = list()\n",
    "    for alpha in alphas:\n",
    "        soft = Softmax(len(model.train_set),5,model.diction_size)\n",
    "        soft.regression(model.train_matrix,model.train_y,alpha,int(epoches/mini_size),\"mini\",mini_size)\n",
    "        r_train,r_test = soft.accuracy(model.train_matrix,model.train_y,model.test_matrix,model.test_y)\n",
    "        mini_train.append(r_train)\n",
    "        mini_test.append(r_test)\n",
    "\n",
    "    #绘制结果图\n",
    "    plt.semilogx(alphas,mini_train,'r--',label='train') #横坐标采用对数格式\n",
    "    plt.semilogx(alphas,mini_test,'b--',label=\"test\")\n",
    "    plt.title(\"N-gram\")\n",
    "    plt.xlabel(\"Learning Rate\")\n",
    "    plt.ylabel(\"Accuracy\")\n",
    "    plt.ylim(0,1)\n",
    "    plt.show()\n"
   ],
   "metadata": {
    "collapsed": false,
    "pycharm": {
     "name": "#%%\n"
    }
   }
  },
  {
   "cell_type": "code",
   "execution_count": 24,
   "outputs": [
    {
     "ename": "MemoryError",
     "evalue": "Unable to allocate 81.9 GiB for an array with shape (109242, 100663) and data type float64",
     "output_type": "error",
     "traceback": [
      "\u001B[1;31m---------------------------------------------------------------------------\u001B[0m",
      "\u001B[1;31mMemoryError\u001B[0m                               Traceback (most recent call last)",
      "Input \u001B[1;32mIn [24]\u001B[0m, in \u001B[0;36m<module>\u001B[1;34m\u001B[0m\n\u001B[0;32m      1\u001B[0m \u001B[38;5;66;03m#n-元语法--特征提取\u001B[39;00m\n\u001B[0;32m      2\u001B[0m model \u001B[38;5;241m=\u001B[39m N_Gram(data,\u001B[38;5;241m2\u001B[39m)\n\u001B[1;32m----> 3\u001B[0m \u001B[43mmodel\u001B[49m\u001B[38;5;241;43m.\u001B[39;49m\u001B[43mget_words\u001B[49m\u001B[43m(\u001B[49m\u001B[43m)\u001B[49m\n\u001B[0;32m      4\u001B[0m model\u001B[38;5;241m.\u001B[39mdiction_size\n\u001B[0;32m      5\u001B[0m model\u001B[38;5;241m.\u001B[39mget_matrix()\n",
      "Input \u001B[1;32mIn [23]\u001B[0m, in \u001B[0;36mN_Gram.get_words\u001B[1;34m(self)\u001B[0m\n\u001B[0;32m     26\u001B[0m \u001B[38;5;28mself\u001B[39m\u001B[38;5;241m.\u001B[39mdiction_size \u001B[38;5;241m=\u001B[39m \u001B[38;5;28mlen\u001B[39m(\u001B[38;5;28mself\u001B[39m\u001B[38;5;241m.\u001B[39mwords_diction)\n\u001B[0;32m     27\u001B[0m \u001B[38;5;66;03m#更新矩阵大小\u001B[39;00m\n\u001B[1;32m---> 28\u001B[0m \u001B[38;5;28mself\u001B[39m\u001B[38;5;241m.\u001B[39mtrain_matrix \u001B[38;5;241m=\u001B[39m \u001B[43mnp\u001B[49m\u001B[38;5;241;43m.\u001B[39;49m\u001B[43mzeros\u001B[49m\u001B[43m(\u001B[49m\u001B[43m(\u001B[49m\u001B[38;5;28;43mlen\u001B[39;49m\u001B[43m(\u001B[49m\u001B[38;5;28;43mself\u001B[39;49m\u001B[38;5;241;43m.\u001B[39;49m\u001B[43mtrain_set\u001B[49m\u001B[43m)\u001B[49m\u001B[43m,\u001B[49m\u001B[38;5;28;43mself\u001B[39;49m\u001B[38;5;241;43m.\u001B[39;49m\u001B[43mdiction_size\u001B[49m\u001B[43m)\u001B[49m\u001B[43m)\u001B[49m\n\u001B[0;32m     29\u001B[0m \u001B[38;5;28mself\u001B[39m\u001B[38;5;241m.\u001B[39mtest_matrix \u001B[38;5;241m=\u001B[39m np\u001B[38;5;241m.\u001B[39mzeros((\u001B[38;5;28mlen\u001B[39m(\u001B[38;5;28mself\u001B[39m\u001B[38;5;241m.\u001B[39mtest_set),\u001B[38;5;28mself\u001B[39m\u001B[38;5;241m.\u001B[39mdiction_size))\n",
      "\u001B[1;31mMemoryError\u001B[0m: Unable to allocate 81.9 GiB for an array with shape (109242, 100663) and data type float64"
     ]
    }
   ],
   "source": [
    "#n-元语法--特征提取--内存溢出版\n",
    "model = N_Gram(data,2)\n",
    "model.get_words()\n",
    "print(model.diction_size)\n",
    "model.get_matrix()"
   ],
   "metadata": {
    "collapsed": false,
    "pycharm": {
     "name": "#%%\n"
    }
   }
  },
  {
   "cell_type": "code",
   "execution_count": 37,
   "outputs": [
    {
     "name": "stdout",
     "output_type": "stream",
     "text": [
      "8915\n"
     ]
    }
   ],
   "source": [
    "#n-元语法--特征提取--正常版\n",
    "model = N_Gram(data,2,10000)\n",
    "model.get_words()\n",
    "print(model.diction_size)\n",
    "model.get_matrix()"
   ],
   "metadata": {
    "collapsed": false,
    "pycharm": {
     "name": "#%%\n"
    }
   }
  },
  {
   "cell_type": "code",
   "execution_count": 38,
   "outputs": [
    {
     "data": {
      "text/plain": "<Figure size 432x288 with 1 Axes>",
      "image/png": "[encoded data removed]"
     },
     "metadata": {
      "needs_background": "light"
     },
     "output_type": "display_data"
    }
   ],
   "source": [
    "model_plot(model,10000,10)"
   ],
   "metadata": {
    "collapsed": false,
    "pycharm": {
     "name": "#%%\n"
    }
   }
  },
  {
   "cell_type": "code",
   "execution_count": null,
   "outputs": [],
   "source": [],
   "metadata": {
    "collapsed": false,
    "pycharm": {
     "name": "#%%\n"
    }
   }
  }
 ],
 "metadata": {
  "kernelspec": {
   "display_name": "Python 3",
   "language": "python",
   "name": "python3"
  },
  "language_info": {
   "codemirror_mode": {
    "name": "ipython",
    "version": 2
   },
   "file_extension": ".py",
   "mimetype": "text/x-python",
   "name": "python",
   "nbconvert_exporter": "python",
   "pygments_lexer": "ipython2",
   "version": "2.7.6"
  }
 },
 "nbformat": 4,
 "nbformat_minor": 0
}